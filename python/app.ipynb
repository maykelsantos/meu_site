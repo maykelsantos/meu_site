{
 "cells": [
  {
   "cell_type": "markdown",
   "metadata": {},
   "source": [
    "# **CUSTOS COM DEPRECIAÇÃO | Secretaria do Tesouro Nacional**\n",
    "\n",
    "* Contempla os dados de custos com depreciação, amortização e exaustão do Governo Federal desde 2015. Todos os parâmetros são opcionais."
   ]
  },
  {
   "cell_type": "markdown",
   "metadata": {},
   "source": [
    "### **Importando Bibliotecas Necessárias para Análise**"
   ]
  },
  {
   "cell_type": "code",
   "execution_count": 21,
   "metadata": {},
   "outputs": [],
   "source": [
    "import pandas as pd\n",
    "import matplotlib as plt\n",
    "import requests\n",
    "import json"
   ]
  },
  {
   "cell_type": "markdown",
   "metadata": {},
   "source": [
    "### **Realizando as Primeiras Requisições**"
   ]
  },
  {
   "cell_type": "code",
   "execution_count": 47,
   "metadata": {},
   "outputs": [
    {
     "data": {
      "text/html": [
       "<div>\n",
       "<style scoped>\n",
       "    .dataframe tbody tr th:only-of-type {\n",
       "        vertical-align: middle;\n",
       "    }\n",
       "\n",
       "    .dataframe tbody tr th {\n",
       "        vertical-align: top;\n",
       "    }\n",
       "\n",
       "    .dataframe thead th {\n",
       "        text-align: right;\n",
       "    }\n",
       "</style>\n",
       "<table border=\"1\" class=\"dataframe\">\n",
       "  <thead>\n",
       "    <tr style=\"text-align: right;\">\n",
       "      <th></th>\n",
       "      <th>co_natureza_juridica</th>\n",
       "      <th>ds_natureza_juridica</th>\n",
       "      <th>co_organizacao_n0</th>\n",
       "      <th>ds_organizacao_n0</th>\n",
       "      <th>co_organizacao_n1</th>\n",
       "      <th>ds_organizacao_n1</th>\n",
       "      <th>co_organizacao_n2</th>\n",
       "      <th>ds_organizacao_n2</th>\n",
       "      <th>co_organizacao_n3</th>\n",
       "      <th>ds_organizacao_n3</th>\n",
       "      <th>an_lanc</th>\n",
       "      <th>me_lanc</th>\n",
       "      <th>id_conta_contabil</th>\n",
       "      <th>no_conta_contabil</th>\n",
       "      <th>va_custo_depreciacao</th>\n",
       "    </tr>\n",
       "  </thead>\n",
       "  <tbody>\n",
       "    <tr>\n",
       "      <th>0</th>\n",
       "      <td>3</td>\n",
       "      <td>ADMINISTRACAO DIRETA</td>\n",
       "      <td>000026</td>\n",
       "      <td>PRESIDENCIA DA REPUBLICA</td>\n",
       "      <td>000014</td>\n",
       "      <td>MINISTERIO DA AGRICULTURA, PECUARIA E ABASTECI...</td>\n",
       "      <td>002773</td>\n",
       "      <td>SUPERINTENDENCIA FEDERAL DE AGRICULTURA, PECUA...</td>\n",
       "      <td>-9</td>\n",
       "      <td>NAO SE APLICA</td>\n",
       "      <td>2015</td>\n",
       "      <td>8</td>\n",
       "      <td>333110200</td>\n",
       "      <td>DEPRECIACAO DE BENS IMOVEIS</td>\n",
       "      <td>0.00</td>\n",
       "    </tr>\n",
       "    <tr>\n",
       "      <th>1</th>\n",
       "      <td>3</td>\n",
       "      <td>ADMINISTRACAO DIRETA</td>\n",
       "      <td>000026</td>\n",
       "      <td>PRESIDENCIA DA REPUBLICA</td>\n",
       "      <td>000014</td>\n",
       "      <td>MINISTERIO DA AGRICULTURA, PECUARIA E ABASTECI...</td>\n",
       "      <td>002787</td>\n",
       "      <td>SUPERINTENDENCIA FEDERAL DE AGRICULTURA, PECUA...</td>\n",
       "      <td>-9</td>\n",
       "      <td>NAO SE APLICA</td>\n",
       "      <td>2015</td>\n",
       "      <td>6</td>\n",
       "      <td>333110200</td>\n",
       "      <td>DEPRECIACAO DE BENS IMOVEIS</td>\n",
       "      <td>0.00</td>\n",
       "    </tr>\n",
       "    <tr>\n",
       "      <th>2</th>\n",
       "      <td>3</td>\n",
       "      <td>ADMINISTRACAO DIRETA</td>\n",
       "      <td>000026</td>\n",
       "      <td>PRESIDENCIA DA REPUBLICA</td>\n",
       "      <td>002844</td>\n",
       "      <td>MINISTERIO DO TRABALHO E PREVIDENCIA SOCIAL</td>\n",
       "      <td>003478</td>\n",
       "      <td>SUPERINTENDENCIA REGIONAL DO TRABALHO E EMPREG...</td>\n",
       "      <td>-9</td>\n",
       "      <td>NAO SE APLICA</td>\n",
       "      <td>2015</td>\n",
       "      <td>6</td>\n",
       "      <td>333110100</td>\n",
       "      <td>DEPRECIACAO DE BENS MOVEIS</td>\n",
       "      <td>60707.72</td>\n",
       "    </tr>\n",
       "  </tbody>\n",
       "</table>\n",
       "</div>"
      ],
      "text/plain": [
       "   co_natureza_juridica  ds_natureza_juridica co_organizacao_n0  \\\n",
       "0                     3  ADMINISTRACAO DIRETA            000026   \n",
       "1                     3  ADMINISTRACAO DIRETA            000026   \n",
       "2                     3  ADMINISTRACAO DIRETA            000026   \n",
       "\n",
       "          ds_organizacao_n0 co_organizacao_n1  \\\n",
       "0  PRESIDENCIA DA REPUBLICA            000014   \n",
       "1  PRESIDENCIA DA REPUBLICA            000014   \n",
       "2  PRESIDENCIA DA REPUBLICA            002844   \n",
       "\n",
       "                                   ds_organizacao_n1 co_organizacao_n2  \\\n",
       "0  MINISTERIO DA AGRICULTURA, PECUARIA E ABASTECI...            002773   \n",
       "1  MINISTERIO DA AGRICULTURA, PECUARIA E ABASTECI...            002787   \n",
       "2        MINISTERIO DO TRABALHO E PREVIDENCIA SOCIAL            003478   \n",
       "\n",
       "                                   ds_organizacao_n2 co_organizacao_n3  \\\n",
       "0  SUPERINTENDENCIA FEDERAL DE AGRICULTURA, PECUA...                -9   \n",
       "1  SUPERINTENDENCIA FEDERAL DE AGRICULTURA, PECUA...                -9   \n",
       "2  SUPERINTENDENCIA REGIONAL DO TRABALHO E EMPREG...                -9   \n",
       "\n",
       "  ds_organizacao_n3  an_lanc  me_lanc  id_conta_contabil  \\\n",
       "0     NAO SE APLICA     2015        8          333110200   \n",
       "1     NAO SE APLICA     2015        6          333110200   \n",
       "2     NAO SE APLICA     2015        6          333110100   \n",
       "\n",
       "             no_conta_contabil  va_custo_depreciacao  \n",
       "0  DEPRECIACAO DE BENS IMOVEIS                  0.00  \n",
       "1  DEPRECIACAO DE BENS IMOVEIS                  0.00  \n",
       "2   DEPRECIACAO DE BENS MOVEIS              60707.72  "
      ]
     },
     "execution_count": 47,
     "metadata": {},
     "output_type": "execute_result"
    }
   ],
   "source": [
    "url = 'https://apidatalake.tesouro.gov.br/ords/custos/tt/depreciacao?ano=2015'\n",
    "response = requests.get(url)\n",
    "data = response.json()\n",
    "df = pd.DataFrame(data['items'])\n",
    "df.head(3)\n"
   ]
  },
  {
   "cell_type": "markdown",
   "metadata": {},
   "source": [
    "### **Removendo Colunas Desnecessárias Para Esta Análise**"
   ]
  },
  {
   "cell_type": "code",
   "execution_count": 48,
   "metadata": {},
   "outputs": [
    {
     "data": {
      "text/html": [
       "<div>\n",
       "<style scoped>\n",
       "    .dataframe tbody tr th:only-of-type {\n",
       "        vertical-align: middle;\n",
       "    }\n",
       "\n",
       "    .dataframe tbody tr th {\n",
       "        vertical-align: top;\n",
       "    }\n",
       "\n",
       "    .dataframe thead th {\n",
       "        text-align: right;\n",
       "    }\n",
       "</style>\n",
       "<table border=\"1\" class=\"dataframe\">\n",
       "  <thead>\n",
       "    <tr style=\"text-align: right;\">\n",
       "      <th></th>\n",
       "      <th>ds_organizacao_n0</th>\n",
       "      <th>ds_organizacao_n1</th>\n",
       "      <th>ds_organizacao_n2</th>\n",
       "      <th>ds_organizacao_n3</th>\n",
       "      <th>an_lanc</th>\n",
       "      <th>me_lanc</th>\n",
       "      <th>no_conta_contabil</th>\n",
       "      <th>va_custo_depreciacao</th>\n",
       "    </tr>\n",
       "  </thead>\n",
       "  <tbody>\n",
       "    <tr>\n",
       "      <th>0</th>\n",
       "      <td>PRESIDENCIA DA REPUBLICA</td>\n",
       "      <td>MINISTERIO DA AGRICULTURA, PECUARIA E ABASTECI...</td>\n",
       "      <td>SUPERINTENDENCIA FEDERAL DE AGRICULTURA, PECUA...</td>\n",
       "      <td>NAO SE APLICA</td>\n",
       "      <td>2015</td>\n",
       "      <td>8</td>\n",
       "      <td>DEPRECIACAO DE BENS IMOVEIS</td>\n",
       "      <td>0.00</td>\n",
       "    </tr>\n",
       "    <tr>\n",
       "      <th>1</th>\n",
       "      <td>PRESIDENCIA DA REPUBLICA</td>\n",
       "      <td>MINISTERIO DA AGRICULTURA, PECUARIA E ABASTECI...</td>\n",
       "      <td>SUPERINTENDENCIA FEDERAL DE AGRICULTURA, PECUA...</td>\n",
       "      <td>NAO SE APLICA</td>\n",
       "      <td>2015</td>\n",
       "      <td>6</td>\n",
       "      <td>DEPRECIACAO DE BENS IMOVEIS</td>\n",
       "      <td>0.00</td>\n",
       "    </tr>\n",
       "    <tr>\n",
       "      <th>2</th>\n",
       "      <td>PRESIDENCIA DA REPUBLICA</td>\n",
       "      <td>MINISTERIO DO TRABALHO E PREVIDENCIA SOCIAL</td>\n",
       "      <td>SUPERINTENDENCIA REGIONAL DO TRABALHO E EMPREG...</td>\n",
       "      <td>NAO SE APLICA</td>\n",
       "      <td>2015</td>\n",
       "      <td>6</td>\n",
       "      <td>DEPRECIACAO DE BENS MOVEIS</td>\n",
       "      <td>60707.72</td>\n",
       "    </tr>\n",
       "  </tbody>\n",
       "</table>\n",
       "</div>"
      ],
      "text/plain": [
       "          ds_organizacao_n0  \\\n",
       "0  PRESIDENCIA DA REPUBLICA   \n",
       "1  PRESIDENCIA DA REPUBLICA   \n",
       "2  PRESIDENCIA DA REPUBLICA   \n",
       "\n",
       "                                   ds_organizacao_n1  \\\n",
       "0  MINISTERIO DA AGRICULTURA, PECUARIA E ABASTECI...   \n",
       "1  MINISTERIO DA AGRICULTURA, PECUARIA E ABASTECI...   \n",
       "2        MINISTERIO DO TRABALHO E PREVIDENCIA SOCIAL   \n",
       "\n",
       "                                   ds_organizacao_n2 ds_organizacao_n3  \\\n",
       "0  SUPERINTENDENCIA FEDERAL DE AGRICULTURA, PECUA...     NAO SE APLICA   \n",
       "1  SUPERINTENDENCIA FEDERAL DE AGRICULTURA, PECUA...     NAO SE APLICA   \n",
       "2  SUPERINTENDENCIA REGIONAL DO TRABALHO E EMPREG...     NAO SE APLICA   \n",
       "\n",
       "   an_lanc  me_lanc            no_conta_contabil  va_custo_depreciacao  \n",
       "0     2015        8  DEPRECIACAO DE BENS IMOVEIS                  0.00  \n",
       "1     2015        6  DEPRECIACAO DE BENS IMOVEIS                  0.00  \n",
       "2     2015        6   DEPRECIACAO DE BENS MOVEIS              60707.72  "
      ]
     },
     "execution_count": 48,
     "metadata": {},
     "output_type": "execute_result"
    }
   ],
   "source": [
    "df.drop(['co_natureza_juridica', 'ds_natureza_juridica', 'co_organizacao_n0', 'co_organizacao_n1', 'co_organizacao_n2', 'co_organizacao_n3', 'id_conta_contabil'], axis=1, inplace=True)\n",
    "df.head(3)"
   ]
  },
  {
   "cell_type": "markdown",
   "metadata": {},
   "source": [
    "### **Somando o Custo Total com Depreciação**"
   ]
  },
  {
   "cell_type": "code",
   "execution_count": 43,
   "metadata": {},
   "outputs": [
    {
     "name": "stdout",
     "output_type": "stream",
     "text": [
      "R$ 1134339254.3594048\n"
     ]
    }
   ],
   "source": [
    "soma_custo_total_depreciacao = df['va_custo_depreciacao'].sum()\n",
    "print('R$ {}'.format(soma_custo_total_depreciacao))\n",
    "\n",
    "# R$ 36.603.783,52 - 2015 page 1"
   ]
  }
 ],
 "metadata": {
  "kernelspec": {
   "display_name": "base",
   "language": "python",
   "name": "python3"
  },
  "language_info": {
   "codemirror_mode": {
    "name": "ipython",
    "version": 3
   },
   "file_extension": ".py",
   "mimetype": "text/x-python",
   "name": "python",
   "nbconvert_exporter": "python",
   "pygments_lexer": "ipython3",
   "version": "3.9.13"
  },
  "orig_nbformat": 4
 },
 "nbformat": 4,
 "nbformat_minor": 2
}
